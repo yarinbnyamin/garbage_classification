{
  "metadata": {
    "kernelspec": {
      "language": "python",
      "display_name": "Python 3",
      "name": "python3"
    },
    "language_info": {
      "pygments_lexer": "ipython3",
      "nbconvert_exporter": "python",
      "version": "3.6.4",
      "file_extension": ".py",
      "codemirror_mode": {
        "name": "ipython",
        "version": 3
      },
      "name": "python",
      "mimetype": "text/x-python"
    },
    "colab": {
      "provenance": [],
      "include_colab_link": true
    }
  },
  "nbformat_minor": 0,
  "nbformat": 4,
  "cells": [
    {
      "cell_type": "markdown",
      "metadata": {
        "id": "view-in-github",
        "colab_type": "text"
      },
      "source": [
        "<a href=\"https://colab.research.google.com/github/yarinbnyamin/garbage_classification/blob/main/garbage_classification_efficientnet_b0.ipynb\" target=\"_parent\"><img src=\"https://colab.research.google.com/assets/colab-badge.svg\" alt=\"Open In Colab\"/></a>"
      ]
    },
    {
      "cell_type": "markdown",
      "source": [
        "# Import Libraries"
      ],
      "metadata": {
        "id": "d8rmwC6LJfkI"
      }
    },
    {
      "cell_type": "code",
      "source": [
        "import numpy as np\n",
        "import torch\n",
        "import torch.nn as nn\n",
        "import torch.nn.functional as F\n",
        "from torchvision import transforms\n",
        "from torchvision.datasets import ImageFolder\n",
        "import pytorch_lightning as pl\n",
        "from torchmetrics.classification import MulticlassAccuracy\n",
        "from efficientnet_pytorch import EfficientNet"
      ],
      "metadata": {
        "id": "R1dLCPDCJfkK"
      },
      "execution_count": null,
      "outputs": []
    },
    {
      "cell_type": "markdown",
      "source": [
        "# Load Dataset"
      ],
      "metadata": {
        "id": "QlA7GgneJfkM"
      }
    },
    {
      "cell_type": "code",
      "source": [
        "transform = transforms.Compose(\n",
        "    [\n",
        "        transforms.Resize((224, 224)),\n",
        "        transforms.RandomHorizontalFlip(),\n",
        "        transforms.ColorJitter(brightness=0.2, contrast=0.2, saturation=0.1, hue=0.1),\n",
        "        transforms.RandomAffine(degrees=40, translate=None, scale=(1, 2), shear=15),\n",
        "        transforms.ToTensor(),\n",
        "        transforms.Normalize((0.485, 0.456, 0.406), (0.229, 0.224, 0.225)),\n",
        "    ]\n",
        ")\n",
        "dataset = ImageFolder(\n",
        "    \"/kaggle/input/garbage_classification\", transform\n",
        ")"
      ],
      "metadata": {
        "id": "QOxI6a2PJfkM"
      },
      "execution_count": null,
      "outputs": []
    },
    {
      "cell_type": "markdown",
      "source": [
        "#  Our EfficientNet Class"
      ],
      "metadata": {
        "id": "C07sWlHnJfkN"
      }
    },
    {
      "cell_type": "code",
      "source": [
        "class EfficientLite(pl.LightningModule):\n",
        "    def __init__(self, lr: float, num_class: int, *args, **kwargs):\n",
        "        super().__init__()\n",
        "\n",
        "        self.save_hyperparameters()\n",
        "\n",
        "        self.model = EfficientNet.from_pretrained(\"efficientnet-b0\")\n",
        "        in_features = self.model._fc.in_features\n",
        "        self.model._fc = nn.Linear(in_features, num_class)\n",
        "\n",
        "        self.train_accuracy = MulticlassAccuracy(num_class)\n",
        "        self.val_accuracy = MulticlassAccuracy(num_class)\n",
        "        self.test_accuracy = MulticlassAccuracy(num_class)\n",
        "\n",
        "    def forward(self, x):\n",
        "        return self.model(x)\n",
        "\n",
        "    def configure_optimizers(self):\n",
        "        optimizer = torch.optim.Adam(self.parameters(), lr=3e-5)\n",
        "        scheduler = torch.optim.lr_scheduler.StepLR(optimizer, step_size=5)\n",
        "        return [optimizer], [scheduler]\n",
        "\n",
        "    def training_step(self, batch, batch_idx):\n",
        "        X, y = batch\n",
        "        logits = self.model(X)\n",
        "        loss = F.cross_entropy(logits, y)\n",
        "\n",
        "        self.train_accuracy(torch.argmax(logits, dim=1), y)\n",
        "\n",
        "        self.log(\"train_loss\", loss.item(), on_epoch=True)\n",
        "        self.log(\n",
        "            \"train_acc\",\n",
        "            self.train_accuracy,\n",
        "            on_step=False,\n",
        "            on_epoch=True,\n",
        "            prog_bar=True,\n",
        "        )\n",
        "\n",
        "        return loss\n",
        "\n",
        "    def validation_step(self, batch, batch_idx):\n",
        "        X, y = batch\n",
        "        logits = self.model(X)\n",
        "        loss = F.cross_entropy(logits, y)\n",
        "\n",
        "        self.val_accuracy(torch.argmax(logits, dim=1), y)\n",
        "\n",
        "        self.log(\"val_loss\", loss.item(), on_epoch=True)\n",
        "        self.log(\n",
        "            \"val_acc\", self.val_accuracy, on_step=False, on_epoch=True, prog_bar=True\n",
        "        )\n",
        "\n",
        "    def test_step(self, batch, batch_idx):\n",
        "        X, y = batch\n",
        "        logits = self.model(X)\n",
        "        loss = F.cross_entropy(logits, y)\n",
        "\n",
        "        self.test_accuracy(torch.argmax(logits, dim=1), y)\n",
        "\n",
        "        self.log(\"test_loss\", loss.item(), on_epoch=True)\n",
        "        self.log(\n",
        "            \"test_acc\", self.test_accuracy, on_step=False, on_epoch=True, prog_bar=True\n",
        "        )\n",
        "\n",
        "    def predict_step(self, batch, batch_idx):\n",
        "        X, y = batch\n",
        "        preds = self.model(X)\n",
        "        return preds\n"
      ],
      "metadata": {
        "id": "AyxMsr52JfkN"
      },
      "execution_count": null,
      "outputs": []
    },
    {
      "cell_type": "markdown",
      "source": [
        "# Create and Train the Model"
      ],
      "metadata": {
        "id": "OGqVdCb6JfkO"
      }
    },
    {
      "cell_type": "code",
      "source": [
        "model = EfficientLite(lr=3e-5, num_class=12)\n",
        "\n",
        "test_border = len(dataset) - int(len(dataset) * (0.2))\n",
        "indices = np.random.permutation(len(dataset)).tolist()\n",
        "train_data = torch.utils.data.Subset(dataset, indices[:test_border])\n",
        "validation_data = torch.utils.data.Subset(dataset, indices[test_border:])\n",
        "\n",
        "batch_size = 64\n",
        "train_loader = torch.utils.data.DataLoader(\n",
        "    train_data, batch_size=batch_size, shuffle=True\n",
        ")\n",
        "validation_loader = torch.utils.data.DataLoader(validation_data, batch_size=batch_size)\n",
        "\n",
        "trainer = pl.Trainer(\n",
        "    accelerator=\"gpu\",\n",
        "    max_epochs=20,\n",
        "    devices=1,\n",
        "    default_root_dir=\"models/\",\n",
        ")\n",
        "\n",
        "trainer.fit(model, train_loader, validation_loader)"
      ],
      "metadata": {
        "id": "mDqtpKaWJfkP"
      },
      "execution_count": null,
      "outputs": []
    },
    {
      "cell_type": "markdown",
      "source": [
        "# Results\n",
        "\n",
        "After 20 epochs with learning rate of 3e-5:\n",
        "* Training: accuracy-0.863 loss-0.315\n",
        "* Test: accuracy-0.903 loss-0.260"
      ],
      "metadata": {
        "id": "IsVKtxa4JfkP"
      }
    }
  ]
}